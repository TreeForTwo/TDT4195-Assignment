{
 "cells": [
  {
   "cell_type": "code",
   "execution_count": null,
   "metadata": {
    "pycharm": {
     "is_executing": true
    }
   },
   "outputs": [],
   "source": [
    "import matplotlib.pyplot as plt\n",
    "import pathlib\n",
    "import numpy as np\n",
    "from utils import read_im, save_im, normalize\n",
    "output_dir = pathlib.Path(\"image_solutions\")\n",
    "output_dir.mkdir(exist_ok=True)"
   ]
  },
  {
   "cell_type": "code",
   "execution_count": null,
   "metadata": {
    "pycharm": {
     "is_executing": true
    }
   },
   "outputs": [],
   "source": [
    "im = read_im(pathlib.Path(\"images\", \"lake.jpg\"))\n",
    "plt.imshow(im)"
   ]
  },
  {
   "cell_type": "code",
   "execution_count": null,
   "metadata": {
    "pycharm": {
     "is_executing": true
    }
   },
   "outputs": [],
   "source": [
    "def convolve_im(im, kernel,\n",
    "    ):\n",
    "    \"\"\" A function that convolves im with kernel\n",
    "    \n",
    "    Args:\n",
    "        im ([type]): [np.array of shape [H, W, 3]]\n",
    "        kernel ([type]): [np.array of shape [K, K]]\n",
    "    \n",
    "    Returns:\n",
    "        [type]: [np.array of shape [H, W, 3]. should be same as im]\n",
    "    \"\"\"\n",
    "    def k(y, x, c):\n",
    "        m = kernel.shape[0] // 2\n",
    "        res = 0\n",
    "        for t in range(-m, m + 1):\n",
    "            if y + t < 0 or y + t >= im.shape[0]:\n",
    "                continue\n",
    "            for s in range(-m, m + 1):\n",
    "                if x + s < 0 or x + s >= im.shape[1]:\n",
    "                    continue\n",
    "                res += kernel[m - t][m - s] * im[y + t][x + s][c]\n",
    "        return res\n",
    "\n",
    "    con = np.empty(im.shape, im.dtype)\n",
    "\n",
    "    it = np.nditer(im, flags=['multi_index'])\n",
    "    for _ in it:\n",
    "        y, x, c = it.multi_index\n",
    "        con[y][x][c] = k(y, x, c)\n",
    "\n",
    "    assert len(con.shape) == 3\n",
    "\n",
    "    return con"
   ]
  },
  {
   "cell_type": "code",
   "execution_count": null,
   "metadata": {
    "pycharm": {
     "is_executing": true
    }
   },
   "outputs": [],
   "source": [
    "# Define the convolutional kernels\n",
    "h_b = 1 / 256  * np.array([\n",
    "    [1, 4, 6, 4, 1],\n",
    "    [4, 16, 24, 16, 4],\n",
    "    [6, 24, 36, 24, 6],\n",
    "    [4, 16, 24, 16, 4],\n",
    "    [1, 4, 6, 4, 1]\n",
    "])\n",
    "sobel_x = np.array([\n",
    "    [-1, 0, 1],\n",
    "    [-2, 0, 2],\n",
    "    [-1, 0, 1]\n",
    "])\n",
    "\n",
    "# Convolve images\n",
    "im_smoothed = convolve_im(im.copy(), h_b)\n",
    "save_im(output_dir.joinpath(\"im_smoothed.jpg\"), im_smoothed)\n",
    "im_sobel = convolve_im(im, sobel_x)\n",
    "save_im(output_dir.joinpath(\"im_sobel.jpg\"), im_sobel)\n",
    "\n",
    "# DO NOT CHANGE. Checking that your function returns as expected\n",
    "assert isinstance(im_smoothed, np.ndarray),     f\"Your convolve function has to return a np.array. \" +    f\"Was: {type(im_smoothed)}\"\n",
    "assert im_smoothed.shape == im.shape,     f\"Expected smoothed im ({im_smoothed.shape}\" +     f\"to have same shape as im ({im.shape})\"\n",
    "assert im_sobel.shape == im.shape,     f\"Expected smoothed im ({im_sobel.shape}\" +     f\"to have same shape as im ({im.shape})\""
   ]
  },
  {
   "cell_type": "code",
   "execution_count": null,
   "metadata": {
    "pycharm": {
     "is_executing": true
    }
   },
   "outputs": [],
   "source": [
    "plt.subplot(1, 2, 1)\n",
    "plt.imshow(normalize(im_smoothed))\n",
    "\n",
    "plt.subplot(1, 2, 2)\n",
    "plt.imshow(normalize(im_sobel))\n",
    "plt.show()"
   ]
  }
 ],
 "metadata": {
  "kernelspec": {
   "name": "python3",
   "language": "python",
   "display_name": "Python 3"
  }
 },
 "nbformat": 4,
 "nbformat_minor": 4
}